{
 "cells": [
  {
   "cell_type": "code",
   "execution_count": 1,
   "id": "a8fcae66-c948-40f8-bfe0-1fe92698fbd7",
   "metadata": {},
   "outputs": [
    {
     "name": "stdout",
     "output_type": "stream",
     "text": [
      "在训练集中，共有15016条数据，其中每条数据有19个特征\n",
      "在测试集中，共有10000条数据，其中每条数据有18个特征\n"
     ]
    }
   ],
   "source": [
    "#数据分析及处理\n",
    "#数据概况\n",
    "#20200440714 任予行\n",
    "import csv\n",
    "import numpy as np\n",
    "\n",
    "train_dataset = 'data3/train_dataset.csv'\n",
    "test_dataset = 'data3/test_dataset.csv'\n",
    "\n",
    "with open(train_dataset, encoding = 'utf-8') as trainset:\n",
    "    traindatas = np.loadtxt(trainset, str, delimiter = \"\\t\", skiprows = 1)\n",
    "\n",
    "with open(test_dataset, encoding = 'utf-8') as testset:\n",
    "    testdatas = np.loadtxt(testset, str, delimiter = \"\\t\", skiprows = 1)\n",
    "\n",
    "print(\"在训练集中，共有{}条数据，其中每条数据有{}个特征\".format(traindatas.shape[0], traindatas.shape[1]))\n",
    "print(\"在测试集中，共有{}条数据，其中每条数据有{}个特征\".format(testdatas.shape[0], testdatas.shape[1]))"
   ]
  },
  {
   "cell_type": "code",
   "execution_count": 2,
   "id": "97058b27-1249-40da-b8ff-bc8c008784ad",
   "metadata": {},
   "outputs": [
    {
     "name": "stdout",
     "output_type": "stream",
     "text": [
      "第1条训练数据是\n",
      "['access:test_d:20180101111639:bBp1' '2018/1/1 11:16' 'test_d' 'login'\n",
      " 'otp' '192.168.100.101' '内网' '1级'\n",
      " '{\"first_lvl\":\"成都分公司\",\"sec_lvl\":\"9楼\",\"third_lvl\":\"销售部\"}' 'web' 'desktop'\n",
      " 'think_pad_e460' 'windows' 'windows 10' 'chrome' 'chrome 90' 'coremail'\n",
      " 'management' '0']\n",
      "第1条测试数据是\n",
      "['access:test_c:20191023212545:H2in' '2019/10/23 21:25' 'test_c' 'sso' ''\n",
      " '27.10.135.254' '代理IP' '3级'\n",
      " '{\"first_lvl\":\"重庆\",\"sec_lvl\":\"重庆市\",\"third_lvl\":\"江北区\"}' 'web' 'desktop'\n",
      " 'macbook' 'macOS' 'macOS Big Sur 11' 'safari' 'safari 13' 'order-mgnt'\n",
      " 'sales']\n"
     ]
    }
   ],
   "source": [
    "#查看某一条数据\n",
    "#20200440714 任予行\n",
    "index = 0\n",
    "print(\"第{}条训练数据是\\n{}\".format(index+1, traindatas[index]))\n",
    "print(\"第{}条测试数据是\\n{}\".format(index+1, testdatas[index]))"
   ]
  },
  {
   "cell_type": "code",
   "execution_count": 3,
   "id": "f02e54e2-9fb0-4472-832d-d3d13401b3ce",
   "metadata": {},
   "outputs": [],
   "source": [
    "#数据预处理\n",
    "#20200440714\n",
    "traindata = traindatas[:, [3, 4, 6, 7, 9, 10, 17]]\n",
    "trainlabel = traindatas[:, [18]]\n",
    "testdata = testdatas[:, [3, 4, 6, 7, 9, 10, 17]]\n",
    "# print(traindata, trainlabel)"
   ]
  },
  {
   "cell_type": "code",
   "execution_count": 4,
   "id": "507935ad-5528-45f9-a0b1-6092e2b23733",
   "metadata": {},
   "outputs": [],
   "source": [
    "# 将以上字段映射成数字\n",
    "#20200440714 任予行\n",
    "encoder_map = { 'login': 1, 'sso': 2, \n",
    "                'pwd': 1, 'sms': 2, 'otp': 3, 'qr': 4,\n",
    "                '家庭宽带': 1, '代理IP': 2, '内网': 3, '公共宽带': 4,\n",
    "                '1级': 1, '2级': 2, '3级': 3,\n",
    "                'app': 1, 'web': 2, \n",
    "                'desktop': 1, 'mobile': 2,\n",
    "                'sales': 1, 'finance': 2, 'management': 3, 'hr': 4,\n",
    "                '': 0 }"
   ]
  },
  {
   "cell_type": "code",
   "execution_count": 5,
   "id": "baea4d50-95d6-42f8-8929-a2820f7bf478",
   "metadata": {},
   "outputs": [],
   "source": [
    "# 将字段编码成数字\n",
    "for iter in range(len(traindata)):\n",
    "    for item in range(len(traindata[iter])):\n",
    "        # print(traindata[iter])\n",
    "        traindata[iter][item] = encoder_map[traindata[iter][item]]\n",
    "        # print(traindata[iter])\n",
    "\n",
    "for iter in range(len(testdata)):\n",
    "    for item in range(len(testdata[iter])):\n",
    "        testdata[iter][item] = encoder_map[testdata[iter][item]]"
   ]
  },
  {
   "cell_type": "code",
   "execution_count": 7,
   "id": "b8699eb2-cdba-48af-aead-b061832e8604",
   "metadata": {},
   "outputs": [
    {
     "name": "stdout",
     "output_type": "stream",
     "text": [
      "data shape (15016, 7) (15016, 1)\n",
      "data_x shape[1] 7\n"
     ]
    }
   ],
   "source": [
    "# 转换为nparray\n",
    "data_X = np.array(traindata, dtype='float32')\n",
    "data_Y = np.array(trainlabel, dtype='float32')\n",
    "# 检查大小\n",
    "print('data shape', data_X.shape, data_Y.shape)\n",
    "print('data_x shape[1]', data_X.shape[1])"
   ]
  },
  {
   "cell_type": "code",
   "execution_count": 8,
   "id": "c4dab2d5-1e1c-490c-ae02-dd27da48e3d5",
   "metadata": {},
   "outputs": [],
   "source": [
    "#模型组网\n",
    "\n",
    "import paddle\n",
    "import paddle.nn as nn\n",
    "\n",
    "# 定义动态图\n",
    "class Classification(paddle.nn.Layer):\n",
    "    def __init__(self):\n",
    "        super(Classification, self).__init__()\n",
    "        self.drop = paddle.nn.Dropout(p=0.5)\n",
    "        # 定义一层全连接层，输出维度是2，激活函数为None，即不使用激活函数\n",
    "        self.fc1 = paddle.nn.Linear(7, 8)\n",
    "        self.fc2 = paddle.nn.Linear(8, 2)\n",
    "    \n",
    "    # 网络的前向计算函数\n",
    "    def forward(self, inputs):\n",
    "        x = self.fc1(inputs)\n",
    "        x = self.drop(x)\n",
    "        pred = self.fc2(x)\n",
    "        return pred"
   ]
  },
  {
   "cell_type": "code",
   "execution_count": 9,
   "id": "b0322bcf-78a4-483d-89a5-eae7e5b8cb65",
   "metadata": {},
   "outputs": [
    {
     "name": "stderr",
     "output_type": "stream",
     "text": [
      "/usr/local/lib/python3.8/dist-packages/ipykernel/ipkernel.py:283: DeprecationWarning: `should_run_async` will not call `transform_cell` automatically in the future. Please pass the result to `transformed_cell` argument and any exception that happen during thetransform in `preprocessing_exc_tuple` in IPython 7.17 and above.\n",
      "  and should_run_async(code)\n"
     ]
    }
   ],
   "source": [
    "#配置参数及训练\n",
    "\n",
    "# 定义绘制训练过程的损失值变化趋势的方法draw_train_process\n",
    "train_nums = []\n",
    "train_costs = []\n",
    "def draw_train_process(iters,train_costs):\n",
    "    title=\"training cost\"\n",
    "    plt.title(title, fontsize=24)\n",
    "    plt.xlabel(\"iter\", fontsize=14)\n",
    "    plt.ylabel(\"cost\", fontsize=14)\n",
    "    plt.plot(iters, train_costs,color='red',label='training cost') \n",
    "    plt.grid()\n",
    "    plt.show()"
   ]
  },
  {
   "cell_type": "code",
   "execution_count": 10,
   "id": "a947551d-4225-44d6-be67-fac000d1a817",
   "metadata": {},
   "outputs": [],
   "source": [
    "#定义损失函数\n",
    "#损失函数使用【R-Drop：摘下SOTA的Dropout正则化策略】里的kl_loss：\n",
    "#20200440714 任予行\n",
    "import paddle\n",
    "import paddle.nn.functional as F\n",
    "\n",
    "class kl_loss(paddle.nn.Layer):\n",
    "    def __init__(self):\n",
    "       super(kl_loss, self).__init__()\n",
    "\n",
    "    def forward(self, p, q, label):\n",
    "        ce_loss = 0.5 * (F.mse_loss(p, label=label)) + F.mse_loss(q, label=label)\n",
    "        kl_loss = self.compute_kl_loss(p, q)\n",
    "\n",
    "        # carefully choose hyper-parameters\n",
    "        loss = ce_loss + 0.3 * kl_loss \n",
    "\n",
    "        return loss\n",
    "\n",
    "    def compute_kl_loss(self, p, q):\n",
    "        \n",
    "        p_loss = F.kl_div(F.log_softmax(p, axis=-1), F.softmax(q, axis=-1), reduction='none')\n",
    "        q_loss = F.kl_div(F.log_softmax(q, axis=-1), F.softmax(p, axis=-1), reduction='none')\n",
    "\n",
    "        # You can choose whether to use function \"sum\" and \"mean\" depending on your task\n",
    "        p_loss = p_loss.sum()\n",
    "        q_loss = q_loss.sum()\n",
    "\n",
    "        loss = (p_loss + q_loss) / 2\n",
    "\n",
    "        return loss"
   ]
  },
  {
   "cell_type": "code",
   "execution_count": 11,
   "id": "685b2e7a-94f6-4414-8a39-7940a00f1572",
   "metadata": {},
   "outputs": [
    {
     "name": "stdout",
     "output_type": "stream",
     "text": [
      "start training ... \n",
      "Pass:0,Cost:28.31236\n",
      "Pass:0,Cost:0.80606\n",
      "Pass:0,Cost:0.55263\n",
      "Pass:0,Cost:0.38404\n",
      "Pass:1,Cost:0.21630\n",
      "Pass:1,Cost:0.59808\n",
      "Pass:1,Cost:0.13844\n",
      "Pass:1,Cost:0.11986\n",
      "Pass:2,Cost:0.15962\n",
      "Pass:2,Cost:0.22131\n",
      "Pass:2,Cost:0.19213\n",
      "Pass:2,Cost:0.05563\n",
      "Pass:3,Cost:0.20655\n",
      "Pass:3,Cost:0.12658\n",
      "Pass:3,Cost:0.26806\n",
      "Pass:3,Cost:0.13074\n",
      "Pass:4,Cost:0.31021\n",
      "Pass:4,Cost:0.19274\n",
      "Pass:4,Cost:0.25239\n",
      "Pass:4,Cost:0.27181\n"
     ]
    }
   ],
   "source": [
    "#模型训练\n",
    "\n",
    "import paddle.nn.functional as F\n",
    "y_preds = []\n",
    "labels_list = []\n",
    "BATCH_SIZE = 8\n",
    "train_data = data_X\n",
    "test_data = data_Y\n",
    "compute_kl_loss = kl_loss()\n",
    "\n",
    "def train(model):\n",
    "    print('start training ... ')\n",
    "    # 开启模型训练模式\n",
    "    model.train()\n",
    "    EPOCH_NUM = 5\n",
    "    train_num = 0\n",
    "    scheduler = paddle.optimizer.lr.CosineAnnealingDecay(learning_rate=0.0025, T_max=int(traindatas.shape[0]/BATCH_SIZE*EPOCH_NUM), verbose=False)\n",
    "    optimizer = paddle.optimizer.Adam(learning_rate=scheduler, parameters=model.parameters())\n",
    "    for epoch_id in range(EPOCH_NUM):\n",
    "        # 在每轮迭代开始之前，将训练数据的顺序随机的打乱\n",
    "        np.random.shuffle(train_data)\n",
    "        # 将训练数据进行拆分，每个batch包含50条数据\n",
    "        mini_batches = [train_data[k: k+BATCH_SIZE] for k in range(0, len(train_data), BATCH_SIZE)]\n",
    "        for batch_id, data in enumerate(mini_batches):\n",
    "            features_np = np.array(data[:, :8], np.float32)\n",
    "            labels_np = np.array(data[:, -1:], np.float32)\n",
    "\n",
    "            features = paddle.to_tensor(features_np)\n",
    "            labels = paddle.to_tensor(labels_np)\n",
    "\n",
    "            #前向计算\n",
    "            y_pred1 = model(features)\n",
    "            y_pred2 = model(features)\n",
    "            cost = compute_kl_loss(y_pred1, y_pred2, label=labels)\n",
    "            # cost = F.mse_loss(y_pred, label=labels)\n",
    "            train_cost = cost.numpy()[0]\n",
    "            #反向传播\n",
    "            cost.backward()\n",
    "            #最小化loss，更新参数\n",
    "            optimizer.step()\n",
    "            # 清除梯度\n",
    "            optimizer.clear_grad()\n",
    "            if batch_id % 500 == 0 and epoch_id % 1 == 0:\n",
    "                print(\"Pass:%d,Cost:%0.5f\"%(epoch_id, train_cost))\n",
    "\n",
    "            train_num = train_num + BATCH_SIZE\n",
    "            train_nums.append(train_num)\n",
    "            train_costs.append(train_cost)\n",
    "\n",
    "model = Classification()\n",
    "train(model)"
   ]
  },
  {
   "cell_type": "code",
   "execution_count": 12,
   "id": "d7e2d33a-85cc-4b27-bc5a-e15b4e5f18f4",
   "metadata": {},
   "outputs": [
    {
     "data": {
      "image/png": "[encoded data removed]",
      "text/plain": [
       "<Figure size 432x288 with 1 Axes>"
      ]
     },
     "metadata": {
      "needs_background": "light"
     },
     "output_type": "display_data"
    }
   ],
   "source": [
    "#绘制趋势曲线\n",
    "#20200440714 任予行\n",
    "import matplotlib\n",
    "import matplotlib.pyplot as plt\n",
    "import warnings\n",
    "warnings.filterwarnings('ignore')\n",
    "%matplotlib inline\n",
    "\n",
    "draw_train_process(train_nums, train_costs)"
   ]
  },
  {
   "cell_type": "code",
   "execution_count": 13,
   "id": "95042772-cec7-4f20-a34f-2d01ccdd93fd",
   "metadata": {},
   "outputs": [],
   "source": [
    "#保存预测结果\n",
    "#模型预测\n",
    "#20200440714 任予行\n",
    "predict_result = []\n",
    "for infer_feature in testdata:\n",
    "    # print(infer_feature)\n",
    "    infer_feature = paddle.to_tensor(np.array(infer_feature, dtype='float32'))\n",
    "    result = model(infer_feature)\n",
    "    # print(result)\n",
    "    predict_result.append(result)"
   ]
  },
  {
   "cell_type": "code",
   "execution_count": 14,
   "id": "f739893c-8e66-43fb-b587-34acd8f9f983",
   "metadata": {},
   "outputs": [],
   "source": [
    "#将结果写入.CSV文件中\n",
    "#20200440714 任予行\n",
    "import os\n",
    "import pandas as pd\n",
    "\n",
    "id_list = [item for item in range(1, 10001)]\n",
    "label_list = []\n",
    "csv_file = 'data3/submission.csv'\n",
    "\n",
    "for item in range(len(id_list)):\n",
    "    label = np.argmax(predict_result[item])\n",
    "    label_list.append(label)\n",
    "\n",
    "data = {'id':id_list, 'ret':label_list}\n",
    "df = pd.DataFrame(data)\n",
    "df.to_csv(csv_file, index=False, encoding='utf8')"
   ]
  },
  {
   "cell_type": "code",
   "execution_count": null,
   "id": "3c71e5e0-95cb-4c76-a09d-4a831786d078",
   "metadata": {},
   "outputs": [],
   "source": []
  }
 ],
 "metadata": {
  "kernelspec": {
   "display_name": "Python 3",
   "language": "python",
   "name": "python3"
  },
  "language_info": {
   "codemirror_mode": {
    "name": "ipython",
    "version": 3
   },
   "file_extension": ".py",
   "mimetype": "text/x-python",
   "name": "python",
   "nbconvert_exporter": "python",
   "pygments_lexer": "ipython3",
   "version": "3.8.10"
  }
 },
 "nbformat": 4,
 "nbformat_minor": 5
}
